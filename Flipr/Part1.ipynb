{
 "cells": [
  {
   "cell_type": "code",
   "execution_count": 250,
   "metadata": {},
   "outputs": [],
   "source": [
    "import pandas as pd\n",
    "import numpy as np\n",
    "import matplotlib.pyplot as plt\n",
    "import seaborn as sn\n",
    "from sklearn.preprocessing import LabelEncoder\n",
    "from sklearn.svm import SVR\n",
    "from sklearn.pipeline import make_pipeline\n",
    "from sklearn.preprocessing import StandardScaler\n",
    "from sklearn.linear_model import LinearRegression\n",
    "from sklearn.ensemble import RandomForestRegressor\n",
    "from sklearn.metrics import r2_score, mean_squared_error\n",
    "from sklearn.model_selection import train_test_split\n",
    "from sklearn.ensemble import AdaBoostRegressor\n",
    "from sklearn.neural_network import MLPRegressor\n",
    "from sklearn.ensemble import VotingRegressor\n",
    "from sklearn.model_selection import *\n",
    "import csv\n",
    "# from keras.lay\n",
    "import time"
   ]
  },
  {
   "cell_type": "code",
   "execution_count": 107,
   "metadata": {},
   "outputs": [],
   "source": [
    "data = pd.read_csv(\"Train_dataset.csv\")"
   ]
  },
  {
   "cell_type": "code",
   "execution_count": 108,
   "metadata": {},
   "outputs": [
    {
     "name": "stdout",
     "output_type": "stream",
     "text": [
      "<class 'pandas.core.frame.DataFrame'>\n",
      "RangeIndex: 787 entries, 0 to 786\n",
      "Data columns (total 16 columns):\n",
      " #   Column             Non-Null Count  Dtype  \n",
      "---  ------             --------------  -----  \n",
      " 0   City               787 non-null    object \n",
      " 1   State              787 non-null    object \n",
      " 2   Type               787 non-null    object \n",
      " 3   Population [2011]  739 non-null    object \n",
      " 4   Popuation [2001]   295 non-null    object \n",
      " 5   Sex Ratio          777 non-null    float64\n",
      " 6   Median Age         769 non-null    float64\n",
      " 7   Avg Temp           770 non-null    float64\n",
      " 8   SWM                783 non-null    object \n",
      " 9   Toilets Avl        761 non-null    float64\n",
      " 10  Water Purity       629 non-null    float64\n",
      " 11  H Index            647 non-null    float64\n",
      " 12  Female Population  646 non-null    float64\n",
      " 13  # of hospitals     772 non-null    float64\n",
      " 14  Foreign Visitors   697 non-null    float64\n",
      " 15  Covid Cases        787 non-null    int64  \n",
      "dtypes: float64(9), int64(1), object(6)\n",
      "memory usage: 98.5+ KB\n"
     ]
    }
   ],
   "source": [
    "data.info()"
   ]
  },
  {
   "cell_type": "code",
   "execution_count": 109,
   "metadata": {},
   "outputs": [
    {
     "data": {
      "text/plain": [
       "City                  object\n",
       "State                 object\n",
       "Type                  object\n",
       "Population [2011]     object\n",
       "Popuation [2001]      object\n",
       "Sex Ratio            float64\n",
       "Median Age           float64\n",
       "Avg Temp             float64\n",
       "SWM                   object\n",
       "Toilets Avl          float64\n",
       "Water Purity         float64\n",
       "H Index              float64\n",
       "Female Population    float64\n",
       "# of hospitals       float64\n",
       "Foreign Visitors     float64\n",
       "Covid Cases            int64\n",
       "dtype: object"
      ]
     },
     "execution_count": 109,
     "metadata": {},
     "output_type": "execute_result"
    }
   ],
   "source": [
    "data.dtypes"
   ]
  },
  {
   "cell_type": "code",
   "execution_count": 110,
   "metadata": {
    "scrolled": true
   },
   "outputs": [
    {
     "data": {
      "text/html": [
       "<div>\n",
       "<style scoped>\n",
       "    .dataframe tbody tr th:only-of-type {\n",
       "        vertical-align: middle;\n",
       "    }\n",
       "\n",
       "    .dataframe tbody tr th {\n",
       "        vertical-align: top;\n",
       "    }\n",
       "\n",
       "    .dataframe thead th {\n",
       "        text-align: right;\n",
       "    }\n",
       "</style>\n",
       "<table border=\"1\" class=\"dataframe\">\n",
       "  <thead>\n",
       "    <tr style=\"text-align: right;\">\n",
       "      <th></th>\n",
       "      <th>City</th>\n",
       "      <th>State</th>\n",
       "      <th>Type</th>\n",
       "      <th>Population [2011]</th>\n",
       "      <th>Popuation [2001]</th>\n",
       "      <th>Sex Ratio</th>\n",
       "      <th>Median Age</th>\n",
       "      <th>Avg Temp</th>\n",
       "      <th>SWM</th>\n",
       "      <th>Toilets Avl</th>\n",
       "      <th>Water Purity</th>\n",
       "      <th>H Index</th>\n",
       "      <th>Female Population</th>\n",
       "      <th># of hospitals</th>\n",
       "      <th>Foreign Visitors</th>\n",
       "      <th>Covid Cases</th>\n",
       "    </tr>\n",
       "  </thead>\n",
       "  <tbody>\n",
       "    <tr>\n",
       "      <th>0</th>\n",
       "      <td>Mumbai</td>\n",
       "      <td>Maharashtra</td>\n",
       "      <td>M.C</td>\n",
       "      <td>1,24,42,373</td>\n",
       "      <td>1,19,78,450</td>\n",
       "      <td>878.0</td>\n",
       "      <td>23.0</td>\n",
       "      <td>32.0</td>\n",
       "      <td>MEDIUM</td>\n",
       "      <td>219.0</td>\n",
       "      <td>150.0</td>\n",
       "      <td>0.700440</td>\n",
       "      <td>10924403.0</td>\n",
       "      <td>159.0</td>\n",
       "      <td>4408916.0</td>\n",
       "      <td>163115</td>\n",
       "    </tr>\n",
       "    <tr>\n",
       "      <th>1</th>\n",
       "      <td>Delhi</td>\n",
       "      <td>Delhi</td>\n",
       "      <td>M.C</td>\n",
       "      <td>1,10,07,835</td>\n",
       "      <td>98,79,172</td>\n",
       "      <td>858.0</td>\n",
       "      <td>27.0</td>\n",
       "      <td>30.0</td>\n",
       "      <td>MEDIUM</td>\n",
       "      <td>215.0</td>\n",
       "      <td>196.0</td>\n",
       "      <td>0.920018</td>\n",
       "      <td>9444722.0</td>\n",
       "      <td>148.0</td>\n",
       "      <td>2379169.0</td>\n",
       "      <td>80188</td>\n",
       "    </tr>\n",
       "    <tr>\n",
       "      <th>2</th>\n",
       "      <td>Bangalore</td>\n",
       "      <td>Karnataka</td>\n",
       "      <td>MPUA</td>\n",
       "      <td>84,36,675</td>\n",
       "      <td>43,01,326</td>\n",
       "      <td>936.0</td>\n",
       "      <td>28.0</td>\n",
       "      <td>37.0</td>\n",
       "      <td>HIGH</td>\n",
       "      <td>212.0</td>\n",
       "      <td>102.0</td>\n",
       "      <td>0.097085</td>\n",
       "      <td>7896728.0</td>\n",
       "      <td>123.0</td>\n",
       "      <td>636502.0</td>\n",
       "      <td>141000</td>\n",
       "    </tr>\n",
       "    <tr>\n",
       "      <th>3</th>\n",
       "      <td>Hyderabad</td>\n",
       "      <td>Telangana</td>\n",
       "      <td>MPUA</td>\n",
       "      <td>68,09,970</td>\n",
       "      <td>36,37,483</td>\n",
       "      <td>930.0</td>\n",
       "      <td>23.0</td>\n",
       "      <td>31.0</td>\n",
       "      <td>MEDIUM</td>\n",
       "      <td>217.0</td>\n",
       "      <td>118.0</td>\n",
       "      <td>0.827744</td>\n",
       "      <td>6333272.0</td>\n",
       "      <td>110.0</td>\n",
       "      <td>126078.0</td>\n",
       "      <td>55123</td>\n",
       "    </tr>\n",
       "    <tr>\n",
       "      <th>4</th>\n",
       "      <td>Ahmedabad</td>\n",
       "      <td>Gujarat</td>\n",
       "      <td>MPUA</td>\n",
       "      <td>55,70,585</td>\n",
       "      <td>35,20,085</td>\n",
       "      <td>852.0</td>\n",
       "      <td>29.0</td>\n",
       "      <td>25.0</td>\n",
       "      <td>LOW</td>\n",
       "      <td>227.0</td>\n",
       "      <td>109.0</td>\n",
       "      <td>0.847941</td>\n",
       "      <td>4746138.0</td>\n",
       "      <td>73.0</td>\n",
       "      <td>284973.0</td>\n",
       "      <td>33204</td>\n",
       "    </tr>\n",
       "    <tr>\n",
       "      <th>...</th>\n",
       "      <td>...</td>\n",
       "      <td>...</td>\n",
       "      <td>...</td>\n",
       "      <td>...</td>\n",
       "      <td>...</td>\n",
       "      <td>...</td>\n",
       "      <td>...</td>\n",
       "      <td>...</td>\n",
       "      <td>...</td>\n",
       "      <td>...</td>\n",
       "      <td>...</td>\n",
       "      <td>...</td>\n",
       "      <td>...</td>\n",
       "      <td>...</td>\n",
       "      <td>...</td>\n",
       "      <td>...</td>\n",
       "    </tr>\n",
       "    <tr>\n",
       "      <th>782</th>\n",
       "      <td>Lunawada</td>\n",
       "      <td>Gujarat</td>\n",
       "      <td>M</td>\n",
       "      <td>36,954</td>\n",
       "      <td>NaN</td>\n",
       "      <td>846.0</td>\n",
       "      <td>23.0</td>\n",
       "      <td>28.0</td>\n",
       "      <td>MEDIUM</td>\n",
       "      <td>68.0</td>\n",
       "      <td>103.0</td>\n",
       "      <td>0.035280</td>\n",
       "      <td>31263.0</td>\n",
       "      <td>19.0</td>\n",
       "      <td>284973.0</td>\n",
       "      <td>1944</td>\n",
       "    </tr>\n",
       "    <tr>\n",
       "      <th>783</th>\n",
       "      <td>Murshidabad</td>\n",
       "      <td>West Bengal</td>\n",
       "      <td>M</td>\n",
       "      <td>36,947</td>\n",
       "      <td>NaN</td>\n",
       "      <td>945.0</td>\n",
       "      <td>23.0</td>\n",
       "      <td>36.0</td>\n",
       "      <td>MEDIUM</td>\n",
       "      <td>62.0</td>\n",
       "      <td>136.0</td>\n",
       "      <td>0.056394</td>\n",
       "      <td>34915.0</td>\n",
       "      <td>22.0</td>\n",
       "      <td>1489500.0</td>\n",
       "      <td>2172</td>\n",
       "    </tr>\n",
       "    <tr>\n",
       "      <th>784</th>\n",
       "      <td>Mahe</td>\n",
       "      <td>Puducherry</td>\n",
       "      <td>M</td>\n",
       "      <td>36,828</td>\n",
       "      <td>NaN</td>\n",
       "      <td>1019.0</td>\n",
       "      <td>28.0</td>\n",
       "      <td>28.0</td>\n",
       "      <td>HIGH</td>\n",
       "      <td>98.0</td>\n",
       "      <td>138.0</td>\n",
       "      <td>0.066752</td>\n",
       "      <td>37528.0</td>\n",
       "      <td>27.0</td>\n",
       "      <td>106153.0</td>\n",
       "      <td>2851</td>\n",
       "    </tr>\n",
       "    <tr>\n",
       "      <th>785</th>\n",
       "      <td>Lanka</td>\n",
       "      <td>Assam</td>\n",
       "      <td>M.B</td>\n",
       "      <td>36,805</td>\n",
       "      <td>NaN</td>\n",
       "      <td>900.0</td>\n",
       "      <td>24.0</td>\n",
       "      <td>6.0</td>\n",
       "      <td>MEDIUM</td>\n",
       "      <td>63.0</td>\n",
       "      <td>145.0</td>\n",
       "      <td>0.627556</td>\n",
       "      <td>33125.0</td>\n",
       "      <td>15.0</td>\n",
       "      <td>24720.0</td>\n",
       "      <td>2158</td>\n",
       "    </tr>\n",
       "    <tr>\n",
       "      <th>786</th>\n",
       "      <td>Rudauli</td>\n",
       "      <td>Uttar Pradesh</td>\n",
       "      <td>M.B</td>\n",
       "      <td>36,776</td>\n",
       "      <td>NaN</td>\n",
       "      <td>889.0</td>\n",
       "      <td>25.0</td>\n",
       "      <td>37.0</td>\n",
       "      <td>HIGH</td>\n",
       "      <td>51.0</td>\n",
       "      <td>181.0</td>\n",
       "      <td>0.313383</td>\n",
       "      <td>32694.0</td>\n",
       "      <td>30.0</td>\n",
       "      <td>3104060.0</td>\n",
       "      <td>2220</td>\n",
       "    </tr>\n",
       "  </tbody>\n",
       "</table>\n",
       "<p>787 rows × 16 columns</p>\n",
       "</div>"
      ],
      "text/plain": [
       "            City          State  Type Population [2011] Popuation [2001]  \\\n",
       "0         Mumbai    Maharashtra   M.C       1,24,42,373      1,19,78,450   \n",
       "1          Delhi          Delhi   M.C       1,10,07,835        98,79,172   \n",
       "2      Bangalore      Karnataka  MPUA         84,36,675        43,01,326   \n",
       "3      Hyderabad      Telangana  MPUA         68,09,970        36,37,483   \n",
       "4      Ahmedabad        Gujarat  MPUA         55,70,585        35,20,085   \n",
       "..           ...            ...   ...               ...              ...   \n",
       "782     Lunawada        Gujarat     M            36,954              NaN   \n",
       "783  Murshidabad    West Bengal     M            36,947              NaN   \n",
       "784         Mahe     Puducherry     M            36,828              NaN   \n",
       "785        Lanka          Assam   M.B            36,805              NaN   \n",
       "786      Rudauli  Uttar Pradesh   M.B            36,776              NaN   \n",
       "\n",
       "     Sex Ratio  Median Age  Avg Temp     SWM  Toilets Avl  Water Purity  \\\n",
       "0        878.0        23.0      32.0  MEDIUM        219.0         150.0   \n",
       "1        858.0        27.0      30.0  MEDIUM        215.0         196.0   \n",
       "2        936.0        28.0      37.0    HIGH        212.0         102.0   \n",
       "3        930.0        23.0      31.0  MEDIUM        217.0         118.0   \n",
       "4        852.0        29.0      25.0     LOW        227.0         109.0   \n",
       "..         ...         ...       ...     ...          ...           ...   \n",
       "782      846.0        23.0      28.0  MEDIUM         68.0         103.0   \n",
       "783      945.0        23.0      36.0  MEDIUM         62.0         136.0   \n",
       "784     1019.0        28.0      28.0    HIGH         98.0         138.0   \n",
       "785      900.0        24.0       6.0  MEDIUM         63.0         145.0   \n",
       "786      889.0        25.0      37.0    HIGH         51.0         181.0   \n",
       "\n",
       "      H Index  Female Population  # of hospitals  Foreign Visitors  \\\n",
       "0    0.700440         10924403.0           159.0         4408916.0   \n",
       "1    0.920018          9444722.0           148.0         2379169.0   \n",
       "2    0.097085          7896728.0           123.0          636502.0   \n",
       "3    0.827744          6333272.0           110.0          126078.0   \n",
       "4    0.847941          4746138.0            73.0          284973.0   \n",
       "..        ...                ...             ...               ...   \n",
       "782  0.035280            31263.0            19.0          284973.0   \n",
       "783  0.056394            34915.0            22.0         1489500.0   \n",
       "784  0.066752            37528.0            27.0          106153.0   \n",
       "785  0.627556            33125.0            15.0           24720.0   \n",
       "786  0.313383            32694.0            30.0         3104060.0   \n",
       "\n",
       "     Covid Cases  \n",
       "0         163115  \n",
       "1          80188  \n",
       "2         141000  \n",
       "3          55123  \n",
       "4          33204  \n",
       "..           ...  \n",
       "782         1944  \n",
       "783         2172  \n",
       "784         2851  \n",
       "785         2158  \n",
       "786         2220  \n",
       "\n",
       "[787 rows x 16 columns]"
      ]
     },
     "execution_count": 110,
     "metadata": {},
     "output_type": "execute_result"
    }
   ],
   "source": [
    "data"
   ]
  },
  {
   "cell_type": "code",
   "execution_count": 111,
   "metadata": {},
   "outputs": [
    {
     "data": {
      "text/plain": [
       "City                 object\n",
       "State                object\n",
       "Type                 object\n",
       "Population [2011]    object\n",
       "Popuation [2001]     object\n",
       "SWM                  object\n",
       "dtype: object"
      ]
     },
     "execution_count": 111,
     "metadata": {},
     "output_type": "execute_result"
    }
   ],
   "source": [
    "obj_df = data.select_dtypes(include=['object'])\n",
    "obj_df.dtypes"
   ]
  },
  {
   "cell_type": "code",
   "execution_count": 112,
   "metadata": {},
   "outputs": [],
   "source": [
    "la = LabelEncoder()\n",
    "data[\"SWM\"] = la.fit_transform(obj_df[\"SWM\"].astype(str))\n",
    "data[\"Type\"] = la.fit_transform(obj_df[\"Type\"].astype(str))\n",
    "data[\"Popuation [2001]\"] = la.fit_transform(obj_df[\"Popuation [2001]\"].astype(str))\n",
    "data[\"Population [2011]\"] = la.fit_transform(obj_df[\"Population [2011]\"].astype(str))\n"
   ]
  },
  {
   "cell_type": "code",
   "execution_count": 113,
   "metadata": {},
   "outputs": [
    {
     "data": {
      "text/plain": [
       "numpy.int64"
      ]
     },
     "execution_count": 113,
     "metadata": {},
     "output_type": "execute_result"
    }
   ],
   "source": [
    "type(data[\"Popuation [2001]\"][0])"
   ]
  },
  {
   "cell_type": "code",
   "execution_count": 114,
   "metadata": {},
   "outputs": [
    {
     "data": {
      "text/plain": [
       "<matplotlib.axes._subplots.AxesSubplot at 0x7f8dc41f12b0>"
      ]
     },
     "execution_count": 114,
     "metadata": {},
     "output_type": "execute_result"
    },
    {
     "data": {
      "image/png": "[encoded data removed]",
      "text/plain": [
       "<Figure size 432x288 with 1 Axes>"
      ]
     },
     "metadata": {
      "needs_background": "light"
     },
     "output_type": "display_data"
    }
   ],
   "source": [
    "sn.boxplot(data[\"Covid Cases\"])"
   ]
  },
  {
   "cell_type": "code",
   "execution_count": 115,
   "metadata": {},
   "outputs": [
    {
     "data": {
      "text/plain": [
       "<matplotlib.axes._subplots.AxesSubplot at 0x7f8dcd610310>"
      ]
     },
     "execution_count": 115,
     "metadata": {},
     "output_type": "execute_result"
    },
    {
     "data": {
      "image/png": "[encoded data removed]",
      "text/plain": [
       "<Figure size 864x576 with 1 Axes>"
      ]
     },
     "metadata": {
      "needs_background": "light"
     },
     "output_type": "display_data"
    }
   ],
   "source": [
    "fig,ax = plt.subplots(figsize = (12,8))\n",
    "sn.distplot(data[\"Covid Cases\"])\n"
   ]
  },
  {
   "cell_type": "code",
   "execution_count": 116,
   "metadata": {},
   "outputs": [],
   "source": [
    "data = data.fillna(data.median())"
   ]
  },
  {
   "cell_type": "code",
   "execution_count": 117,
   "metadata": {},
   "outputs": [],
   "source": [
    "cor = data.corr()"
   ]
  },
  {
   "cell_type": "code",
   "execution_count": 118,
   "metadata": {},
   "outputs": [
    {
     "data": {
      "image/png": "[encoded data removed]",
      "text/plain": [
       "<Figure size 432x288 with 2 Axes>"
      ]
     },
     "metadata": {
      "needs_background": "light"
     },
     "output_type": "display_data"
    }
   ],
   "source": [
    "sn.heatmap(cor)\n",
    "plt.show()"
   ]
  },
  {
   "cell_type": "code",
   "execution_count": 193,
   "metadata": {},
   "outputs": [],
   "source": [
    "data = data.drop([\"Popuation [2001]\"],axis = 1)"
   ]
  },
  {
   "cell_type": "code",
   "execution_count": 194,
   "metadata": {},
   "outputs": [
    {
     "data": {
      "text/html": [
       "<div>\n",
       "<style scoped>\n",
       "    .dataframe tbody tr th:only-of-type {\n",
       "        vertical-align: middle;\n",
       "    }\n",
       "\n",
       "    .dataframe tbody tr th {\n",
       "        vertical-align: top;\n",
       "    }\n",
       "\n",
       "    .dataframe thead th {\n",
       "        text-align: right;\n",
       "    }\n",
       "</style>\n",
       "<table border=\"1\" class=\"dataframe\">\n",
       "  <thead>\n",
       "    <tr style=\"text-align: right;\">\n",
       "      <th></th>\n",
       "      <th>Type</th>\n",
       "      <th>Population [2011]</th>\n",
       "      <th>Sex Ratio</th>\n",
       "      <th>Median Age</th>\n",
       "      <th>Avg Temp</th>\n",
       "      <th>SWM</th>\n",
       "      <th>Toilets Avl</th>\n",
       "      <th>Water Purity</th>\n",
       "      <th>H Index</th>\n",
       "      <th>Female Population</th>\n",
       "      <th># of hospitals</th>\n",
       "      <th>Foreign Visitors</th>\n",
       "      <th>Covid Cases</th>\n",
       "    </tr>\n",
       "  </thead>\n",
       "  <tbody>\n",
       "    <tr>\n",
       "      <th>0</th>\n",
       "      <td>0.226598</td>\n",
       "      <td>-1.632504</td>\n",
       "      <td>-0.753532</td>\n",
       "      <td>-1.521925</td>\n",
       "      <td>0.153381</td>\n",
       "      <td>1.227775</td>\n",
       "      <td>4.097152</td>\n",
       "      <td>-0.011494</td>\n",
       "      <td>0.757803</td>\n",
       "      <td>14.021986</td>\n",
       "      <td>4.066954</td>\n",
       "      <td>1.917839</td>\n",
       "      <td>10.358637</td>\n",
       "    </tr>\n",
       "    <tr>\n",
       "      <th>1</th>\n",
       "      <td>0.226598</td>\n",
       "      <td>-1.668577</td>\n",
       "      <td>-1.297271</td>\n",
       "      <td>0.392951</td>\n",
       "      <td>-0.136789</td>\n",
       "      <td>1.227775</td>\n",
       "      <td>3.963963</td>\n",
       "      <td>1.759146</td>\n",
       "      <td>1.583174</td>\n",
       "      <td>12.077582</td>\n",
       "      <td>3.685940</td>\n",
       "      <td>0.639401</td>\n",
       "      <td>4.869728</td>\n",
       "    </tr>\n",
       "    <tr>\n",
       "      <th>2</th>\n",
       "      <td>0.871174</td>\n",
       "      <td>1.343467</td>\n",
       "      <td>0.823313</td>\n",
       "      <td>0.871670</td>\n",
       "      <td>0.878804</td>\n",
       "      <td>-1.187872</td>\n",
       "      <td>3.864072</td>\n",
       "      <td>-1.859118</td>\n",
       "      <td>-1.510136</td>\n",
       "      <td>10.043410</td>\n",
       "      <td>2.819998</td>\n",
       "      <td>-0.458219</td>\n",
       "      <td>8.894853</td>\n",
       "    </tr>\n",
       "    <tr>\n",
       "      <th>3</th>\n",
       "      <td>0.871174</td>\n",
       "      <td>0.978234</td>\n",
       "      <td>0.660191</td>\n",
       "      <td>-1.521925</td>\n",
       "      <td>0.008296</td>\n",
       "      <td>1.227775</td>\n",
       "      <td>4.030558</td>\n",
       "      <td>-1.243243</td>\n",
       "      <td>1.236326</td>\n",
       "      <td>7.988919</td>\n",
       "      <td>2.369709</td>\n",
       "      <td>-0.779710</td>\n",
       "      <td>3.210685</td>\n",
       "    </tr>\n",
       "    <tr>\n",
       "      <th>4</th>\n",
       "      <td>0.871174</td>\n",
       "      <td>0.468712</td>\n",
       "      <td>-1.460393</td>\n",
       "      <td>1.350389</td>\n",
       "      <td>-0.862212</td>\n",
       "      <td>0.019951</td>\n",
       "      <td>4.363529</td>\n",
       "      <td>-1.589673</td>\n",
       "      <td>1.312245</td>\n",
       "      <td>5.903315</td>\n",
       "      <td>1.088115</td>\n",
       "      <td>-0.679630</td>\n",
       "      <td>1.759874</td>\n",
       "    </tr>\n",
       "    <tr>\n",
       "      <th>...</th>\n",
       "      <td>...</td>\n",
       "      <td>...</td>\n",
       "      <td>...</td>\n",
       "      <td>...</td>\n",
       "      <td>...</td>\n",
       "      <td>...</td>\n",
       "      <td>...</td>\n",
       "      <td>...</td>\n",
       "      <td>...</td>\n",
       "      <td>...</td>\n",
       "      <td>...</td>\n",
       "      <td>...</td>\n",
       "      <td>...</td>\n",
       "    </tr>\n",
       "    <tr>\n",
       "      <th>782</th>\n",
       "      <td>-0.203119</td>\n",
       "      <td>-0.658550</td>\n",
       "      <td>-1.623515</td>\n",
       "      <td>-1.521925</td>\n",
       "      <td>-0.426958</td>\n",
       "      <td>1.227775</td>\n",
       "      <td>-0.930711</td>\n",
       "      <td>-1.820626</td>\n",
       "      <td>-1.742453</td>\n",
       "      <td>-0.292360</td>\n",
       "      <td>-0.782318</td>\n",
       "      <td>-0.679630</td>\n",
       "      <td>-0.309215</td>\n",
       "    </tr>\n",
       "    <tr>\n",
       "      <th>783</th>\n",
       "      <td>-0.203119</td>\n",
       "      <td>-0.663059</td>\n",
       "      <td>1.067996</td>\n",
       "      <td>-1.521925</td>\n",
       "      <td>0.733719</td>\n",
       "      <td>1.227775</td>\n",
       "      <td>-1.130494</td>\n",
       "      <td>-0.550384</td>\n",
       "      <td>-1.663091</td>\n",
       "      <td>-0.287561</td>\n",
       "      <td>-0.678405</td>\n",
       "      <td>0.079042</td>\n",
       "      <td>-0.294123</td>\n",
       "    </tr>\n",
       "    <tr>\n",
       "      <th>784</th>\n",
       "      <td>-0.203119</td>\n",
       "      <td>-0.667568</td>\n",
       "      <td>3.079832</td>\n",
       "      <td>0.871670</td>\n",
       "      <td>-0.426958</td>\n",
       "      <td>-1.187872</td>\n",
       "      <td>0.068202</td>\n",
       "      <td>-0.473400</td>\n",
       "      <td>-1.624154</td>\n",
       "      <td>-0.284127</td>\n",
       "      <td>-0.505217</td>\n",
       "      <td>-0.792260</td>\n",
       "      <td>-0.249181</td>\n",
       "    </tr>\n",
       "    <tr>\n",
       "      <th>785</th>\n",
       "      <td>0.011739</td>\n",
       "      <td>-0.672077</td>\n",
       "      <td>-0.155418</td>\n",
       "      <td>-1.043206</td>\n",
       "      <td>-3.618822</td>\n",
       "      <td>1.227775</td>\n",
       "      <td>-1.097197</td>\n",
       "      <td>-0.203955</td>\n",
       "      <td>0.483841</td>\n",
       "      <td>-0.289913</td>\n",
       "      <td>-0.920869</td>\n",
       "      <td>-0.843550</td>\n",
       "      <td>-0.295050</td>\n",
       "    </tr>\n",
       "    <tr>\n",
       "      <th>786</th>\n",
       "      <td>0.011739</td>\n",
       "      <td>-0.676586</td>\n",
       "      <td>-0.454475</td>\n",
       "      <td>-0.564487</td>\n",
       "      <td>0.878804</td>\n",
       "      <td>-1.187872</td>\n",
       "      <td>-1.496762</td>\n",
       "      <td>1.181763</td>\n",
       "      <td>-0.697097</td>\n",
       "      <td>-0.290480</td>\n",
       "      <td>-0.401304</td>\n",
       "      <td>1.095974</td>\n",
       "      <td>-0.290946</td>\n",
       "    </tr>\n",
       "  </tbody>\n",
       "</table>\n",
       "<p>787 rows × 13 columns</p>\n",
       "</div>"
      ],
      "text/plain": [
       "         Type  Population [2011]  Sex Ratio  Median Age  Avg Temp       SWM  \\\n",
       "0    0.226598          -1.632504  -0.753532   -1.521925  0.153381  1.227775   \n",
       "1    0.226598          -1.668577  -1.297271    0.392951 -0.136789  1.227775   \n",
       "2    0.871174           1.343467   0.823313    0.871670  0.878804 -1.187872   \n",
       "3    0.871174           0.978234   0.660191   -1.521925  0.008296  1.227775   \n",
       "4    0.871174           0.468712  -1.460393    1.350389 -0.862212  0.019951   \n",
       "..        ...                ...        ...         ...       ...       ...   \n",
       "782 -0.203119          -0.658550  -1.623515   -1.521925 -0.426958  1.227775   \n",
       "783 -0.203119          -0.663059   1.067996   -1.521925  0.733719  1.227775   \n",
       "784 -0.203119          -0.667568   3.079832    0.871670 -0.426958 -1.187872   \n",
       "785  0.011739          -0.672077  -0.155418   -1.043206 -3.618822  1.227775   \n",
       "786  0.011739          -0.676586  -0.454475   -0.564487  0.878804 -1.187872   \n",
       "\n",
       "     Toilets Avl  Water Purity   H Index  Female Population  # of hospitals  \\\n",
       "0       4.097152     -0.011494  0.757803          14.021986        4.066954   \n",
       "1       3.963963      1.759146  1.583174          12.077582        3.685940   \n",
       "2       3.864072     -1.859118 -1.510136          10.043410        2.819998   \n",
       "3       4.030558     -1.243243  1.236326           7.988919        2.369709   \n",
       "4       4.363529     -1.589673  1.312245           5.903315        1.088115   \n",
       "..           ...           ...       ...                ...             ...   \n",
       "782    -0.930711     -1.820626 -1.742453          -0.292360       -0.782318   \n",
       "783    -1.130494     -0.550384 -1.663091          -0.287561       -0.678405   \n",
       "784     0.068202     -0.473400 -1.624154          -0.284127       -0.505217   \n",
       "785    -1.097197     -0.203955  0.483841          -0.289913       -0.920869   \n",
       "786    -1.496762      1.181763 -0.697097          -0.290480       -0.401304   \n",
       "\n",
       "     Foreign Visitors  Covid Cases  \n",
       "0            1.917839    10.358637  \n",
       "1            0.639401     4.869728  \n",
       "2           -0.458219     8.894853  \n",
       "3           -0.779710     3.210685  \n",
       "4           -0.679630     1.759874  \n",
       "..                ...          ...  \n",
       "782         -0.679630    -0.309215  \n",
       "783          0.079042    -0.294123  \n",
       "784         -0.792260    -0.249181  \n",
       "785         -0.843550    -0.295050  \n",
       "786          1.095974    -0.290946  \n",
       "\n",
       "[787 rows x 13 columns]"
      ]
     },
     "execution_count": 194,
     "metadata": {},
     "output_type": "execute_result"
    }
   ],
   "source": [
    "data"
   ]
  },
  {
   "cell_type": "code",
   "execution_count": 195,
   "metadata": {},
   "outputs": [],
   "source": [
    "Y_train = np.array(data[\"Covid Cases\"])"
   ]
  },
  {
   "cell_type": "code",
   "execution_count": 196,
   "metadata": {},
   "outputs": [],
   "source": [
    "X_train = np.array(data.loc[:,\"Sex Ratio\":\"Foreign Visitors\"])"
   ]
  },
  {
   "cell_type": "code",
   "execution_count": 197,
   "metadata": {},
   "outputs": [],
   "source": [
    "X_train, X_test, y_train, y_test = train_test_split(X_train, Y_train, test_size=0.4, random_state=0)"
   ]
  },
  {
   "cell_type": "code",
   "execution_count": 198,
   "metadata": {},
   "outputs": [],
   "source": [
    "regr = make_pipeline(StandardScaler(), SVR(C=11.0, epsilon=0.2))"
   ]
  },
  {
   "cell_type": "code",
   "execution_count": 199,
   "metadata": {},
   "outputs": [
    {
     "data": {
      "text/plain": [
       "Pipeline(steps=[('standardscaler', StandardScaler()),\n",
       "                ('svr', SVR(C=11.0, epsilon=0.2))])"
      ]
     },
     "execution_count": 199,
     "metadata": {},
     "output_type": "execute_result"
    }
   ],
   "source": [
    "regr.fit(X_train,y_train)"
   ]
  },
  {
   "cell_type": "code",
   "execution_count": 200,
   "metadata": {},
   "outputs": [
    {
     "data": {
      "text/plain": [
       "0.5712828628249441"
      ]
     },
     "execution_count": 200,
     "metadata": {},
     "output_type": "execute_result"
    }
   ],
   "source": [
    "regr.score(X_test,y_test)"
   ]
  },
  {
   "cell_type": "code",
   "execution_count": 201,
   "metadata": {},
   "outputs": [
    {
     "data": {
      "text/plain": [
       "LinearRegression()"
      ]
     },
     "execution_count": 201,
     "metadata": {},
     "output_type": "execute_result"
    }
   ],
   "source": [
    "lr = LinearRegression()\n",
    "lr.fit(X_train,y_train)"
   ]
  },
  {
   "cell_type": "code",
   "execution_count": 202,
   "metadata": {},
   "outputs": [
    {
     "data": {
      "text/plain": [
       "0.6155710632529974"
      ]
     },
     "execution_count": 202,
     "metadata": {},
     "output_type": "execute_result"
    }
   ],
   "source": [
    "lr.score(X_test,y_test)"
   ]
  },
  {
   "cell_type": "code",
   "execution_count": 203,
   "metadata": {},
   "outputs": [],
   "source": [
    "mu = data.loc[:,\"Type\":].mean(axis =0)"
   ]
  },
  {
   "cell_type": "code",
   "execution_count": 122,
   "metadata": {},
   "outputs": [],
   "source": [
    "sigma = data.loc[:,\"Type\":].std(axis = 0)"
   ]
  },
  {
   "cell_type": "code",
   "execution_count": 123,
   "metadata": {},
   "outputs": [],
   "source": [
    "data = (data.loc[:,\"Type\":]-mu)/sigma"
   ]
  },
  {
   "cell_type": "code",
   "execution_count": 1075,
   "metadata": {},
   "outputs": [
    {
     "data": {
      "text/plain": [
       "array([[-1.93842880e-02,  3.90977287e-01,  5.88818247e-01, ...,\n",
       "         4.61477228e-16, -9.32021996e-01, -7.79123178e-01],\n",
       "       [ 1.17684322e+00,  1.34849810e+00,  1.31424233e+00, ...,\n",
       "        -3.07012606e-01, -6.89034401e-01,  2.01503311e-02],\n",
       "       [ 1.98111622e-01,  8.69737692e-01, -2.81690650e-01, ...,\n",
       "        -3.21713980e-01, -5.15471834e-01, -6.61937104e-01],\n",
       "       ...,\n",
       "       [-9.16554917e-01, -8.77831171e-02,  1.31424233e+00, ...,\n",
       "        -3.27106422e-01, -6.54321888e-01, -7.76241276e-01],\n",
       "       [ 9.04973330e-01, -5.66543522e-01,  1.02407270e+00, ...,\n",
       "        -3.15125714e-01, -7.58459428e-01, -8.88245291e-01],\n",
       "       [ 1.77495697e+00,  1.82725850e+00, -1.36605833e-01, ...,\n",
       "        -3.27276876e-01, -1.07087205e+00, -3.06814978e-01]])"
      ]
     },
     "execution_count": 1075,
     "metadata": {},
     "output_type": "execute_result"
    }
   ],
   "source": [
    "X_train"
   ]
  },
  {
   "cell_type": "markdown",
   "metadata": {},
   "source": [
    "# MULTI VARIATE REGRESSION"
   ]
  },
  {
   "cell_type": "code",
   "execution_count": 132,
   "metadata": {},
   "outputs": [],
   "source": [
    "def hypothesis(x, theta):\n",
    "    y_pred = 0.0\n",
    "    for i in range(theta.shape[0]):\n",
    "        y_pred += theta[i]*x[i]\n",
    "        \n",
    "    return y_pred"
   ]
  },
  {
   "cell_type": "code",
   "execution_count": 133,
   "metadata": {},
   "outputs": [],
   "source": [
    "def error(X,Y,theta):\n",
    "    m = X.shape[0]\n",
    "    e = 0.0\n",
    "    for i in range(m):\n",
    "        hx = hypothesis(X[i],theta)\n",
    "        e+=(hx-Y[i])**2\n",
    "        \n",
    "    return e/m"
   ]
  },
  {
   "cell_type": "code",
   "execution_count": 134,
   "metadata": {},
   "outputs": [],
   "source": [
    "def gradient(X,Y,theta):\n",
    "    m,n = X.shape\n",
    "    grad = np.zeros((n,))\n",
    "    \n",
    "    for j in range(n):\n",
    "        for i in range(m):\n",
    "            hx = hypothesis(X[i], theta)\n",
    "            grad[j] += (hx - Y[i])*X[i][j]\n",
    "            \n",
    "    return grad/m"
   ]
  },
  {
   "cell_type": "code",
   "execution_count": 135,
   "metadata": {},
   "outputs": [],
   "source": [
    "def gradient_descent(X,Y, lr = .1,max_itr = 300):\n",
    "    m,n = X.shape\n",
    "    error_list = []\n",
    "    theta = np.zeros((n,))\n",
    "    for i in range(max_itr):\n",
    "\n",
    "        e = error(X,Y,theta)\n",
    "\n",
    "        grad = gradient(X,Y, theta)\n",
    "        error_list.append(e)\n",
    "        for j in range(n):\n",
    "            theta[j] = theta[j] - lr*grad[j]\n",
    "            \n",
    "    return theta, error_list"
   ]
  },
  {
   "cell_type": "code",
   "execution_count": 136,
   "metadata": {},
   "outputs": [
    {
     "data": {
      "text/plain": [
       "(472, 11)"
      ]
     },
     "execution_count": 136,
     "metadata": {},
     "output_type": "execute_result"
    }
   ],
   "source": [
    "ones = np.ones((X_train.shape[0], 1))\n",
    "X_ = np.hstack((ones, X_train))\n",
    "X_.shape"
   ]
  },
  {
   "cell_type": "code",
   "execution_count": 138,
   "metadata": {},
   "outputs": [],
   "source": [
    "start = time.time()\n",
    "theta, error_list = gradient_descent(X_, y_train)\n",
    "end = time.time()"
   ]
  },
  {
   "cell_type": "code",
   "execution_count": null,
   "metadata": {},
   "outputs": [],
   "source": []
  },
  {
   "cell_type": "code",
   "execution_count": 139,
   "metadata": {},
   "outputs": [
    {
     "data": {
      "text/plain": [
       "[<matplotlib.lines.Line2D at 0x7f8dc39952b0>]"
      ]
     },
     "execution_count": 139,
     "metadata": {},
     "output_type": "execute_result"
    },
    {
     "data": {
      "image/png": "[encoded data removed]",
      "text/plain": [
       "<Figure size 432x288 with 1 Axes>"
      ]
     },
     "metadata": {
      "needs_background": "light"
     },
     "output_type": "display_data"
    }
   ],
   "source": [
    "plt.plot(error_list)\n"
   ]
  },
  {
   "cell_type": "code",
   "execution_count": 140,
   "metadata": {},
   "outputs": [],
   "source": [
    "y_pred = []\n",
    "for i in range(X_.shape[0]):\n",
    "    y_pred.append(hypothesis(X_[i],theta))"
   ]
  },
  {
   "cell_type": "code",
   "execution_count": 141,
   "metadata": {},
   "outputs": [],
   "source": [
    "def evaluate(Y_actual, Y_pred):\n",
    "    num = np.sum((Y_actual - Y_pred)**2)\n",
    "    denom = np.sum((Y_actual - Y_actual.mean())**2)\n",
    "    \n",
    "    return (1 - (num/denom))*100"
   ]
  },
  {
   "cell_type": "code",
   "execution_count": 142,
   "metadata": {},
   "outputs": [
    {
     "data": {
      "text/plain": [
       "52.62793916648547"
      ]
     },
     "execution_count": 142,
     "metadata": {},
     "output_type": "execute_result"
    }
   ],
   "source": [
    "evaluate(y_train,y_pred)\n"
   ]
  },
  {
   "cell_type": "code",
   "execution_count": 143,
   "metadata": {},
   "outputs": [
    {
     "data": {
      "text/plain": [
       "0.5262793916648547"
      ]
     },
     "execution_count": 143,
     "metadata": {},
     "output_type": "execute_result"
    }
   ],
   "source": [
    "r2_score(y_train,y_pred)"
   ]
  },
  {
   "cell_type": "code",
   "execution_count": 150,
   "metadata": {},
   "outputs": [
    {
     "data": {
      "text/plain": [
       "RandomForestRegressor(n_estimators=500)"
      ]
     },
     "execution_count": 150,
     "metadata": {},
     "output_type": "execute_result"
    }
   ],
   "source": [
    "rf = RandomForestRegressor(n_estimators=500)\n",
    "rf.fit(X_train,y_train)"
   ]
  },
  {
   "cell_type": "code",
   "execution_count": 153,
   "metadata": {},
   "outputs": [],
   "source": [
    "y_pred = rf.predict(X_train)"
   ]
  },
  {
   "cell_type": "code",
   "execution_count": 154,
   "metadata": {},
   "outputs": [
    {
     "data": {
      "text/plain": [
       "0.9166808111556252"
      ]
     },
     "execution_count": 154,
     "metadata": {},
     "output_type": "execute_result"
    }
   ],
   "source": [
    "r2_score(y_pred,y_train)"
   ]
  },
  {
   "cell_type": "code",
   "execution_count": 157,
   "metadata": {},
   "outputs": [
    {
     "data": {
      "text/plain": [
       "MLPRegressor(hidden_layer_sizes=(5,), max_iter=1000000)"
      ]
     },
     "execution_count": 157,
     "metadata": {},
     "output_type": "execute_result"
    }
   ],
   "source": [
    "mlp = MLPRegressor(hidden_layer_sizes=(5,),max_iter=1000000)\n",
    "mlp.fit(X_train,y_train)"
   ]
  },
  {
   "cell_type": "code",
   "execution_count": 158,
   "metadata": {},
   "outputs": [
    {
     "data": {
      "text/plain": [
       "0.6424781406844079"
      ]
     },
     "execution_count": 158,
     "metadata": {},
     "output_type": "execute_result"
    }
   ],
   "source": [
    "mlp.score(X_test,y_test)"
   ]
  },
  {
   "cell_type": "code",
   "execution_count": 161,
   "metadata": {},
   "outputs": [],
   "source": [
    "y_pred = mlp.predict(X_test)"
   ]
  },
  {
   "cell_type": "code",
   "execution_count": 162,
   "metadata": {},
   "outputs": [
    {
     "data": {
      "text/plain": [
       "0.7089692166678583"
      ]
     },
     "execution_count": 162,
     "metadata": {},
     "output_type": "execute_result"
    }
   ],
   "source": [
    "r2_score(y_pred,y_test)"
   ]
  },
  {
   "cell_type": "code",
   "execution_count": 167,
   "metadata": {},
   "outputs": [],
   "source": [
    "VotingRegressor?"
   ]
  },
  {
   "cell_type": "code",
   "execution_count": 169,
   "metadata": {},
   "outputs": [],
   "source": [
    "estimators = [('mlp',mlp),('lr',lr),('rf',rf),('SVM',regr)]\n",
    "vr = VotingRegressor(estimators)"
   ]
  },
  {
   "cell_type": "code",
   "execution_count": 999,
   "metadata": {},
   "outputs": [],
   "source": [
    "vr?"
   ]
  },
  {
   "cell_type": "code",
   "execution_count": 170,
   "metadata": {},
   "outputs": [
    {
     "data": {
      "text/plain": [
       "VotingRegressor(estimators=[('mlp',\n",
       "                             MLPRegressor(hidden_layer_sizes=(5,),\n",
       "                                          max_iter=1000000)),\n",
       "                            ('lr', LinearRegression()),\n",
       "                            ('rf', RandomForestRegressor(n_estimators=500)),\n",
       "                            ('SVM',\n",
       "                             Pipeline(steps=[('standardscaler',\n",
       "                                              StandardScaler()),\n",
       "                                             ('svr',\n",
       "                                              SVR(C=11.0, epsilon=0.2))]))])"
      ]
     },
     "execution_count": 170,
     "metadata": {},
     "output_type": "execute_result"
    }
   ],
   "source": [
    "vr.fit(X_train,y_train)"
   ]
  },
  {
   "cell_type": "code",
   "execution_count": 171,
   "metadata": {},
   "outputs": [
    {
     "data": {
      "text/plain": [
       "0.8448112403778321"
      ]
     },
     "execution_count": 171,
     "metadata": {},
     "output_type": "execute_result"
    }
   ],
   "source": [
    "vr.score(X_train,y_train)"
   ]
  },
  {
   "cell_type": "code",
   "execution_count": 177,
   "metadata": {},
   "outputs": [
    {
     "data": {
      "text/plain": [
       "0.6662302158627653"
      ]
     },
     "execution_count": 177,
     "metadata": {},
     "output_type": "execute_result"
    }
   ],
   "source": [
    "r2_score(y_pred,y_test)"
   ]
  },
  {
   "cell_type": "code",
   "execution_count": 182,
   "metadata": {},
   "outputs": [],
   "source": [
    "y_pred = vr.predict(X_test)"
   ]
  },
  {
   "cell_type": "code",
   "execution_count": null,
   "metadata": {},
   "outputs": [],
   "source": []
  },
  {
   "cell_type": "code",
   "execution_count": 204,
   "metadata": {},
   "outputs": [],
   "source": [
    "test = pd.read_csv(\"Test_data-Table 1.csv\")"
   ]
  },
  {
   "cell_type": "code",
   "execution_count": 205,
   "metadata": {},
   "outputs": [
    {
     "data": {
      "text/plain": [
       "City                 object\n",
       "State                object\n",
       "Type                 object\n",
       "Population [2011]    object\n",
       "SWM                  object\n",
       "dtype: object"
      ]
     },
     "execution_count": 205,
     "metadata": {},
     "output_type": "execute_result"
    }
   ],
   "source": [
    "obj_df_t = test.select_dtypes(include=['object'])\n",
    "obj_df_t.dtypes"
   ]
  },
  {
   "cell_type": "code",
   "execution_count": 206,
   "metadata": {},
   "outputs": [],
   "source": [
    "test[\"SWM\"] = la.fit_transform(obj_df_t[\"SWM\"].astype(str))\n",
    "test[\"Type\"] = la.fit_transform(obj_df_t[\"Type\"].astype(str))\n",
    "test[\"Population [2011]\"] = la.fit_transform(obj_df_t[\"Population [2011]\"].astype(str))"
   ]
  },
  {
   "cell_type": "code",
   "execution_count": 212,
   "metadata": {},
   "outputs": [],
   "source": [
    "test = test.fillna(test.median())"
   ]
  },
  {
   "cell_type": "code",
   "execution_count": null,
   "metadata": {},
   "outputs": [],
   "source": []
  },
  {
   "cell_type": "code",
   "execution_count": 213,
   "metadata": {},
   "outputs": [],
   "source": [
    "X_test = np.array(test.loc[:,\"Sex Ratio\":\"Foreign Visitors\"])\n"
   ]
  },
  {
   "cell_type": "code",
   "execution_count": 241,
   "metadata": {},
   "outputs": [],
   "source": [
    "sep1 = vr.predict(X_test)\n",
    "for i in range(len(sep1)):\n",
    "    if(sep1[i]<0):\n",
    "        sep1[i] = sep1[i]*-1"
   ]
  },
  {
   "cell_type": "code",
   "execution_count": 242,
   "metadata": {},
   "outputs": [],
   "source": [
    "city = np.array(test[\"City\"])"
   ]
  },
  {
   "cell_type": "code",
   "execution_count": 246,
   "metadata": {},
   "outputs": [],
   "source": [
    "final_sep1 = []\n",
    "for i in range(len(test)):\n",
    "    req = {\"City\":city[i],\n",
    "          \"Covid_Case\":int(sep1[i])\n",
    "          }\n",
    "    final_sep1.append(req)"
   ]
  },
  {
   "cell_type": "code",
   "execution_count": 247,
   "metadata": {},
   "outputs": [
    {
     "data": {
      "text/plain": [
       "501"
      ]
     },
     "execution_count": 247,
     "metadata": {},
     "output_type": "execute_result"
    }
   ],
   "source": [
    "len(final_sep1)"
   ]
  },
  {
   "cell_type": "code",
   "execution_count": 253,
   "metadata": {},
   "outputs": [],
   "source": [
    "with open('sep1.csv', 'w') as csvfile:\n",
    "    writer = csv.DictWriter(csvfile, fieldnames=[\"City\",\"Covid_Case\"])\n",
    "    writer.writeheader()\n",
    "    writer.writerows(final_sep1)"
   ]
  },
  {
   "cell_type": "code",
   "execution_count": 257,
   "metadata": {},
   "outputs": [],
   "source": [
    "test = pd.read_csv(\"Test_data-Table 1.csv\")\n",
    "test = test.fillna(test.median())"
   ]
  },
  {
   "cell_type": "code",
   "execution_count": 258,
   "metadata": {},
   "outputs": [
    {
     "data": {
      "text/plain": [
       "City                 object\n",
       "State                object\n",
       "Type                 object\n",
       "Population [2011]    object\n",
       "SWM                  object\n",
       "dtype: object"
      ]
     },
     "execution_count": 258,
     "metadata": {},
     "output_type": "execute_result"
    }
   ],
   "source": [
    "obj_df_t = test.select_dtypes(include=['object'])\n",
    "obj_df_t.dtypes"
   ]
  },
  {
   "cell_type": "code",
   "execution_count": 259,
   "metadata": {},
   "outputs": [],
   "source": [
    "test[\"SWM\"] = la.fit_transform(obj_df_t[\"SWM\"].astype(str))\n",
    "test[\"Type\"] = la.fit_transform(obj_df_t[\"Type\"].astype(str))\n",
    "test[\"Population [2011]\"] = la.fit_transform(obj_df_t[\"Population [2011]\"].astype(str))"
   ]
  },
  {
   "cell_type": "code",
   "execution_count": null,
   "metadata": {},
   "outputs": [],
   "source": [
    "X_test = np.array(test.loc[:,\"Sex Ratio\":\"Foreign Visitors\"])\n"
   ]
  },
  {
   "cell_type": "code",
   "execution_count": 260,
   "metadata": {},
   "outputs": [],
   "source": [
    "oct1 = vr.predict(X_test)"
   ]
  },
  {
   "cell_type": "code",
   "execution_count": 261,
   "metadata": {},
   "outputs": [],
   "source": [
    "final_oct1 = []\n",
    "for i in range(len(test)):\n",
    "    req = {\"City\":city[i],\n",
    "          \"Covid_Case\":int(oct1[i])\n",
    "          }\n",
    "    final_oct1.append(req)"
   ]
  },
  {
   "cell_type": "code",
   "execution_count": 262,
   "metadata": {},
   "outputs": [],
   "source": [
    "with open('oct1.csv', 'w') as csvfile:\n",
    "    writer = csv.DictWriter(csvfile, fieldnames=[\"City\",\"Covid_Case\"])\n",
    "    writer.writeheader()\n",
    "    writer.writerows(final_oct1)"
   ]
  },
  {
   "cell_type": "code",
   "execution_count": null,
   "metadata": {},
   "outputs": [],
   "source": []
  }
 ],
 "metadata": {
  "kernelspec": {
   "display_name": "Python 3",
   "language": "python",
   "name": "python3"
  },
  "language_info": {
   "codemirror_mode": {
    "name": "ipython",
    "version": 3
   },
   "file_extension": ".py",
   "mimetype": "text/x-python",
   "name": "python",
   "nbconvert_exporter": "python",
   "pygments_lexer": "ipython3",
   "version": "3.8.3"
  }
 },
 "nbformat": 4,
 "nbformat_minor": 4
}
